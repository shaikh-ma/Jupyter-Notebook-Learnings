{
 "cells": [
  {
   "cell_type": "markdown",
   "id": "236d967e",
   "metadata": {},
   "source": [
    "# Basics of Jupyter Notebook Markdown\n",
    "\n",
    "\n",
    "Note: To best understand, download this notebook and view in Edit mode."
   ]
  },
  {
   "cell_type": "markdown",
   "id": "4c4e68e6",
   "metadata": {},
   "source": [
    "# 1. Writing Code in Markdown\n",
    "\n",
    "```\n",
    "#  To create a code block in MARKDOWN we need to use the backtick (```) symbols around the code.\n",
    "\n",
    "print(\"Hello World\")\n",
    "\n",
    "for i in range(10):\n",
    "   print(i, end='\\n')\n",
    "\n",
    "squares = [x*x for x in range(10)]\n",
    "\n",
    "```"
   ]
  },
  {
   "cell_type": "markdown",
   "id": "68f1befb",
   "metadata": {},
   "source": [
    "# 2. Writing Different HEADINGS in Markdown\n",
    "\n",
    "# H1 (heading 1) - line starts with '# '\n",
    "## H2 (heading 2) - line starts with '## '\n",
    "### H3 (heading 3) - line starts with '### '\n",
    "#### H4 (heading 4) - line starts with '#### '\n",
    "##### H5 (heading 5) - line starts with '##### '\n",
    "###### H6 (heading 6) - - line starts with '###### '"
   ]
  },
  {
   "cell_type": "markdown",
   "id": "917b3430",
   "metadata": {},
   "source": [
    "# 3. Writing unordered List\n",
    "\n",
    "* some item\n",
    "* another item\n",
    "    * sublist of first item\n",
    "    * sublist of second item\n",
    "* yet another item"
   ]
  },
  {
   "cell_type": "markdown",
   "id": "37aac1c3",
   "metadata": {},
   "source": [
    "# 4. Writing Ordered List\n",
    "\n",
    "1. First Item\n",
    "2. Second Item\n",
    "    1. First of second item\n",
    "    2. Second of second item\n",
    "3. Third Item\n",
    "\n",
    "Note: The ordering starts from the first number and follows the sequence (rest numbers are ignored)\n",
    "\n",
    "\n",
    "5. Some Item\n",
    "1. Some second Item\n",
    "1. Some Third Item\n",
    "3. Some Fourth Item\n"
   ]
  },
  {
   "cell_type": "markdown",
   "id": "233a6edd",
   "metadata": {},
   "source": [
    "# 5. Making a text Bold\n",
    "\n",
    "Some text with **BOLD** word. ( using the ** around the word(s) )\n"
   ]
  },
  {
   "cell_type": "markdown",
   "id": "703975bf",
   "metadata": {},
   "source": [
    "# 6. Making a text *Italics*\n",
    "some text with *ITALICS* words. ( using the * around the word(s) )\n"
   ]
  },
  {
   "cell_type": "markdown",
   "id": "2d4babe7",
   "metadata": {},
   "source": [
    "# 7. Adding Hyper links\n",
    "\n",
    "## Reference Hyperlinks\n",
    "\n",
    "For reference Hyperlinks we use the square brackets for the reference text (e.g. '[Reference][1]') and then we assign the hyperlink to this refernced text associated number.  \n",
    "```\n",
    "e.g. \n",
    "\n",
    "[Wikipedia Pages][1]\n",
    "[1]: https://www.wikipedia.org\n",
    "\n",
    "```\n",
    "\n",
    "Output:\n",
    "Referenced hyperlink to [Wikipedia Pages][1]\n",
    "\n",
    "\n",
    "[1]: https://www.wikipedia.org\n",
    "\n",
    "\n",
    "\n",
    "## Inline Hyperlinks\n",
    "\n",
    "For Inline Hyperlinks we use the square brackets for the reference text and then we assign the hyperlink to this refernce text using the parenthesis.  \n",
    "```\n",
    "e.g. \n",
    "\n",
    "'[1](https://www.google.com)'\n",
    "\n",
    "```\n",
    "\n",
    "Output:\n",
    "Inline hyperlink to [Wikipedia Pages](https://www.wikipedia.org)\n"
   ]
  },
  {
   "cell_type": "markdown",
   "id": "c41911fd",
   "metadata": {},
   "source": [
    "# 8. Adding New lines\n",
    "\n",
    "To\n",
    "Insert\n",
    "New\n",
    "Lines\n",
    "End\n",
    "Each\n",
    "Line\n",
    "With\n",
    "TWO\n",
    "SPACES.\n",
    "\n",
    "\n",
    "Line number 1  \n",
    "Line number 2  \n",
    "Line number 3  \n"
   ]
  },
  {
   "cell_type": "markdown",
   "id": "0317c5f1",
   "metadata": {},
   "source": [
    "# 9. Adding Images\n",
    "\n",
    "```\n",
    "To add an images use the syntax ' ![IMAGE CAPTION][REF]  [REF]: IMAGEPATH\n",
    "\n",
    "e.g.,\n",
    "\n",
    "![A IMAGE_NAME.PNG image][2]\n",
    "\n",
    "[2]: IMAGE_PATH\\IMAGE_NAME.PNG\n",
    "```\n",
    "\n",
    "![A GitHub.PNG image][2]\n",
    "\n",
    "[2]: GitHub.PNG"
   ]
  }
 ],
 "metadata": {
  "kernelspec": {
   "display_name": "Python 3 (ipykernel)",
   "language": "python",
   "name": "python3"
  },
  "language_info": {
   "codemirror_mode": {
    "name": "ipython",
    "version": 3
   },
   "file_extension": ".py",
   "mimetype": "text/x-python",
   "name": "python",
   "nbconvert_exporter": "python",
   "pygments_lexer": "ipython3",
   "version": "3.9.1"
  }
 },
 "nbformat": 4,
 "nbformat_minor": 5
}
