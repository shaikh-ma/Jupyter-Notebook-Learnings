{
 "cells": [
  {
   "cell_type": "markdown",
   "id": "dc7ddc6c",
   "metadata": {},
   "source": [
    "# Pandas - Series Practice"
   ]
  },
  {
   "cell_type": "code",
   "execution_count": 3,
   "id": "c82fb7ce",
   "metadata": {},
   "outputs": [],
   "source": [
    "import pandas as pd"
   ]
  },
  {
   "cell_type": "code",
   "execution_count": 4,
   "id": "9a59010a",
   "metadata": {},
   "outputs": [],
   "source": [
    "simple_dict = { 'name': 'Mr. A', 'age': 30, 'gender': 'Male'}"
   ]
  },
  {
   "cell_type": "code",
   "execution_count": 6,
   "id": "9ebd48ae",
   "metadata": {},
   "outputs": [
    {
     "name": "stdout",
     "output_type": "stream",
     "text": [
      "name      Mr. A\n",
      "age          30\n",
      "gender     Male\n",
      "dtype: object\n"
     ]
    }
   ],
   "source": [
    "series = pd.Series(simple_dict)\n",
    "print(series)"
   ]
  },
  {
   "cell_type": "code",
   "execution_count": 14,
   "id": "514b3f21",
   "metadata": {},
   "outputs": [
    {
     "data": {
      "text/plain": [
       "Index(['name', 'age', 'gender'], dtype='object')"
      ]
     },
     "execution_count": 14,
     "metadata": {},
     "output_type": "execute_result"
    }
   ],
   "source": [
    "# Getting the series Indexes\n",
    "\n",
    "series.index"
   ]
  },
  {
   "cell_type": "code",
   "execution_count": 15,
   "id": "0cd3c3f8",
   "metadata": {},
   "outputs": [
    {
     "data": {
      "text/plain": [
       "array(['Mr. A', 30, 'Male'], dtype=object)"
      ]
     },
     "execution_count": 15,
     "metadata": {},
     "output_type": "execute_result"
    }
   ],
   "source": [
    "# Getting the values\n",
    "\n",
    "series.values"
   ]
  },
  {
   "cell_type": "code",
   "execution_count": 13,
   "id": "37b0262e",
   "metadata": {},
   "outputs": [
    {
     "data": {
      "text/plain": [
       "pandas.core.series.Series"
      ]
     },
     "execution_count": 13,
     "metadata": {},
     "output_type": "execute_result"
    }
   ],
   "source": [
    "#Checking the type\n",
    "\n",
    "type(series)"
   ]
  },
  {
   "cell_type": "code",
   "execution_count": 19,
   "id": "91eeb6b8",
   "metadata": {},
   "outputs": [
    {
     "name": "stdout",
     "output_type": "stream",
     "text": [
      "name      Mr. A\n",
      "age          30\n",
      "gender     Male\n",
      "dtype: object\n"
     ]
    }
   ],
   "source": [
    "# Transpose\n",
    "\n",
    "transposed_series = series.T\n",
    "\n",
    "print(transposed_series)\n"
   ]
  },
  {
   "cell_type": "code",
   "execution_count": 26,
   "id": "9197860c",
   "metadata": {},
   "outputs": [
    {
     "name": "stdout",
     "output_type": "stream",
     "text": [
      "s1: \n",
      " 0    1\n",
      "1    2\n",
      "2    3\n",
      "dtype: int64\n",
      "s2: \n",
      " 0    5\n",
      "1    6\n",
      "2    7\n",
      "dtype: int64\n",
      "s3: \n",
      " 0     6\n",
      "1     8\n",
      "2    10\n",
      "dtype: int64\n"
     ]
    }
   ],
   "source": [
    "# Adding values to series\n",
    "\n",
    "s1 = pd.Series([1,2,3])\n",
    "print('s1: \\n',s1)\n",
    "\n",
    "s2 = pd.Series([5,6,7])\n",
    "print('s2: \\n',s2)\n",
    "\n",
    "\n",
    "\n",
    "s3 = s1.add(s2)\n",
    "print('s3: \\n',s3)"
   ]
  },
  {
   "cell_type": "code",
   "execution_count": 34,
   "id": "0eb715d1",
   "metadata": {},
   "outputs": [
    {
     "name": "stdout",
     "output_type": "stream",
     "text": [
      "Maximum value for s1 is at index:  2 value:  3\n",
      "Maximum value for s2 is at index:  2 value:  7\n",
      "Maximum value for s3 is at index:  2 value:  10\n"
     ]
    }
   ],
   "source": [
    "# Getting the INDES of Maximum value \n",
    "\n",
    "print('Maximum value for s1 is at index: ', s1.argmax(),'value: ' ,s1[s1.argmax()])\n",
    "print('Maximum value for s2 is at index: ', s2.argmax(),'value: ' ,s2[s2.argmax()])\n",
    "print('Maximum value for s3 is at index: ', s3.argmax(),'value: ' ,s3[s3.argmax()])"
   ]
  },
  {
   "cell_type": "code",
   "execution_count": 39,
   "id": "515917c6",
   "metadata": {},
   "outputs": [
    {
     "name": "stdout",
     "output_type": "stream",
     "text": [
      "Mr. A\n",
      "30\n"
     ]
    }
   ],
   "source": [
    "# Accessing the values\n",
    "\n",
    "print(series[0])\n",
    "print(series[1])"
   ]
  },
  {
   "cell_type": "code",
   "execution_count": 42,
   "id": "b2d40dd0",
   "metadata": {},
   "outputs": [
    {
     "name": "stdout",
     "output_type": "stream",
     "text": [
      "0    1\n",
      "1    2\n",
      "2    3\n",
      "dtype: int64\n",
      "0    2\n",
      "1    4\n",
      "2    6\n",
      "dtype: int64\n"
     ]
    }
   ],
   "source": [
    "# Mapping a function to all of the elements\n",
    "\n",
    "double_it = lambda x : x * 2\n",
    "print(s1)\n",
    "print(s1.apply(double_it))"
   ]
  },
  {
   "cell_type": "code",
   "execution_count": 47,
   "id": "cc15593b",
   "metadata": {},
   "outputs": [
    {
     "name": "stdout",
     "output_type": "stream",
     "text": [
      "Original series\n",
      " 0    1\n",
      "1    2\n",
      "2    3\n",
      "dtype: int64\n",
      "\n",
      " Addition:\n",
      "\n",
      "0    11\n",
      "1    12\n",
      "2    13\n",
      "dtype: int64\n",
      "\n",
      " Subtraction:\n",
      "\n",
      "0    0\n",
      "1    1\n",
      "2    2\n",
      "dtype: int64\n",
      "\n",
      " Multiplication:\n",
      "\n",
      "0    10\n",
      "1    20\n",
      "2    30\n",
      "dtype: int64\n",
      "\n",
      " Division:\n",
      "\n",
      "0    0.1\n",
      "1    0.2\n",
      "2    0.3\n",
      "dtype: float64\n",
      "\n",
      " Integer Division:\n",
      "\n",
      "0    0\n",
      "1    0\n",
      "2    0\n",
      "dtype: int64\n"
     ]
    }
   ],
   "source": [
    "# Arithmetic operations on a Series\n",
    "\n",
    "print('Original series\\n', s1)\n",
    "print('\\n Addition:\\n')\n",
    "print(s1 + 10)\n",
    "print('\\n Subtraction:\\n')\n",
    "print(s1 - 1)\n",
    "print('\\n Multiplication:\\n')\n",
    "print(s1 * 10)\n",
    "print('\\n Division:\\n')\n",
    "print(s1 / 10)\n",
    "print('\\n Integer Division:\\n')\n",
    "print(s1 // 10)"
   ]
  }
 ],
 "metadata": {
  "kernelspec": {
   "display_name": "Python 3 (ipykernel)",
   "language": "python",
   "name": "python3"
  },
  "language_info": {
   "codemirror_mode": {
    "name": "ipython",
    "version": 3
   },
   "file_extension": ".py",
   "mimetype": "text/x-python",
   "name": "python",
   "nbconvert_exporter": "python",
   "pygments_lexer": "ipython3",
   "version": "3.9.1"
  }
 },
 "nbformat": 4,
 "nbformat_minor": 5
}
